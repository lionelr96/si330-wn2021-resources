{
 "cells": [
  {
   "cell_type": "markdown",
   "metadata": {
    "slideshow": {
     "slide_type": "slide"
    }
   },
   "source": [
    "# Apply (or, thinking and doing functionally)\n",
    "- We've talked at length about the benefits of broadcasting and vectorization, but sometimes you need to do something that NumPy just can't do\n",
    "- We can still think and act functionally, and pandas provides two mechanisms for this `apply` and `applymap`"
   ]
  },
  {
   "cell_type": "code",
   "execution_count": 1,
   "metadata": {},
   "outputs": [],
   "source": [
    "%load_ext fakermaker\n",
    "import fakermaker"
   ]
  },
  {
   "cell_type": "markdown",
   "metadata": {
    "slideshow": {
     "slide_type": "subslide"
    }
   },
   "source": [
    "- `applymap` is a function on a `DataFrame` which takes a single parameter: some function to apply to all cells in the `DataFrame`\n",
    "- The return value is, likewise, simple: the new `DataFrame`\n",
    "- Let's take a look"
   ]
  },
  {
   "cell_type": "code",
   "execution_count": 8,
   "metadata": {
    "slideshow": {
     "slide_type": "slide"
    }
   },
   "outputs": [
    {
     "output_type": "stream",
     "name": "stdout",
     "text": [
      "   A  B  C\n0  1  4  7\n1  2  5  8\n2  3  6  9\n   A   B   C\n0  1  16  49\n1  4  25  64\n2  9  36  81\n"
     ]
    }
   ],
   "source": [
    "import pandas as pd\n",
    "\n",
    "def sample_func(x):\n",
    "    return x*x\n",
    "\n",
    "df = pd.DataFrame({'A': [1, 2, 3], 'B': [4, 5, 6], 'C': [7, 8, 9]})\n",
    "print(df)\n",
    "new_df = df.applymap(sample_func)\n",
    "print(new_df)"
   ]
  },
  {
   "cell_type": "code",
   "execution_count": null,
   "metadata": {},
   "outputs": [],
   "source": []
  },
  {
   "cell_type": "markdown",
   "metadata": {
    "slideshow": {
     "slide_type": "slide"
    }
   },
   "source": [
    "- In the end, I almost never use `applymap`, but `apply` I use on **every** data cleaning approach\n",
    "- `apply` looks almost the same, but acts across a row or column\n",
    "- **very very powerful**\n",
    "- the result of an apply is a `Series` or `DataFrame` object"
   ]
  },
  {
   "cell_type": "code",
   "execution_count": 5,
   "metadata": {
    "slideshow": {
     "slide_type": "slide"
    }
   },
   "outputs": [],
   "source": [
    "%%fakermaker\n",
    "people\n",
    "------\n",
    "name\n",
    "address"
   ]
  },
  {
   "cell_type": "code",
   "execution_count": 6,
   "metadata": {
    "slideshow": {
     "slide_type": "fragment"
    }
   },
   "outputs": [
    {
     "output_type": "execute_result",
     "data": {
      "text/plain": [
       "               name                                            address\n",
       "0      Pamela Clark     5722 Williamson Falls\\nGrahamchester, OK 81070\n",
       "1     Jane Mitchell   94816 Turner Meadow\\nWest Annetteshire, WA 54126\n",
       "2  Stephen Caldwell      480 Matthew Neck\\nEast Lorettahaven, HI 12607\n",
       "3       James Weiss        37312 Jenkins Brooks\\nSanchezport, KS 54026\n",
       "4  Danielle Pearson  708 Amy Mountains Suite 319\\nMasseyfort, OK 41062"
      ],
      "text/html": "<div>\n<style scoped>\n    .dataframe tbody tr th:only-of-type {\n        vertical-align: middle;\n    }\n\n    .dataframe tbody tr th {\n        vertical-align: top;\n    }\n\n    .dataframe thead th {\n        text-align: right;\n    }\n</style>\n<table border=\"1\" class=\"dataframe\">\n  <thead>\n    <tr style=\"text-align: right;\">\n      <th></th>\n      <th>name</th>\n      <th>address</th>\n    </tr>\n  </thead>\n  <tbody>\n    <tr>\n      <th>0</th>\n      <td>Pamela Clark</td>\n      <td>5722 Williamson Falls\\nGrahamchester, OK 81070</td>\n    </tr>\n    <tr>\n      <th>1</th>\n      <td>Jane Mitchell</td>\n      <td>94816 Turner Meadow\\nWest Annetteshire, WA 54126</td>\n    </tr>\n    <tr>\n      <th>2</th>\n      <td>Stephen Caldwell</td>\n      <td>480 Matthew Neck\\nEast Lorettahaven, HI 12607</td>\n    </tr>\n    <tr>\n      <th>3</th>\n      <td>James Weiss</td>\n      <td>37312 Jenkins Brooks\\nSanchezport, KS 54026</td>\n    </tr>\n    <tr>\n      <th>4</th>\n      <td>Danielle Pearson</td>\n      <td>708 Amy Mountains Suite 319\\nMasseyfort, OK 41062</td>\n    </tr>\n  </tbody>\n</table>\n</div>"
     },
     "metadata": {},
     "execution_count": 6
    }
   ],
   "source": [
    "people.head()"
   ]
  },
  {
   "cell_type": "markdown",
   "metadata": {},
   "source": [
    "- So, how should we clean this?\n",
    "- Let's break everything apart!"
   ]
  },
  {
   "cell_type": "code",
   "execution_count": 32,
   "metadata": {},
   "outputs": [
    {
     "output_type": "stream",
     "name": "stdout",
     "text": [
      "81070\n54126\n12607\n54026\n41062\n56663\n75195\n90430\n12628\n49096\n18623\n37528\n89941\n06728\n80476\n13425\n97474\n50641\n68914\n92753\n36717\n90430\n89652\n83256\n81880\n13425\n50641\n96286\n18623\n90430\n01543\n50641\n09385\n89652\n86523\n04052\n19558\n54026\n95902\n08313\n21140\n04670\n85000\n03058\n20699\n12628\n23577\n81114\n55671\n03596\n08355\n04670\n85000\n58538\n27422\n17860\n31835\n01070\n76623\n16459\n09865\n83126\n94196\n38011\n45318\n60420\n38011\n58538\n74999\n12750\n11326\n51249\n95902\n60406\n94659\n85000\n58538\n74999\n80476\n84977\n18390\n81970\n39083\n89941\n06278\n23577\n50598\n85000\n90430\n18623\n60228\n38997\n31233\n67278\n87566\n74729\n49096\n09865\n10794\n"
     ]
    },
    {
     "output_type": "execute_result",
     "data": {
      "text/plain": [
       "name       None\n",
       "address    None\n",
       "dtype: object"
      ]
     },
     "metadata": {},
     "execution_count": 32
    }
   ],
   "source": [
    "# my implementation\n",
    "import re\n",
    "def grab_zip(x):\n",
    "    for i in x:\n",
    "        pattern = '\\d{5}'\n",
    "        stuff = re.findall(pattern, i)\n",
    "        if len(stuff) > 0:\n",
    "            print(stuff[-1])\n",
    "\n",
    "people.apply(grab_zip)"
   ]
  },
  {
   "cell_type": "code",
   "execution_count": 33,
   "metadata": {},
   "outputs": [
    {
     "output_type": "execute_result",
     "data": {
      "text/plain": [
       "               name                                            address  \\\n",
       "0      Pamela Clark     5722 Williamson Falls\\nGrahamchester, OK 81070   \n",
       "1     Jane Mitchell   94816 Turner Meadow\\nWest Annetteshire, WA 54126   \n",
       "2  Stephen Caldwell      480 Matthew Neck\\nEast Lorettahaven, HI 12607   \n",
       "3       James Weiss        37312 Jenkins Brooks\\nSanchezport, KS 54026   \n",
       "4  Danielle Pearson  708 Amy Mountains Suite 319\\nMasseyfort, OK 41062   \n",
       "\n",
       "  zip codes  \n",
       "0     81070  \n",
       "1     54126  \n",
       "2     12607  \n",
       "3     54026  \n",
       "4     41062  "
      ],
      "text/html": "<div>\n<style scoped>\n    .dataframe tbody tr th:only-of-type {\n        vertical-align: middle;\n    }\n\n    .dataframe tbody tr th {\n        vertical-align: top;\n    }\n\n    .dataframe thead th {\n        text-align: right;\n    }\n</style>\n<table border=\"1\" class=\"dataframe\">\n  <thead>\n    <tr style=\"text-align: right;\">\n      <th></th>\n      <th>name</th>\n      <th>address</th>\n      <th>zip codes</th>\n    </tr>\n  </thead>\n  <tbody>\n    <tr>\n      <th>0</th>\n      <td>Pamela Clark</td>\n      <td>5722 Williamson Falls\\nGrahamchester, OK 81070</td>\n      <td>81070</td>\n    </tr>\n    <tr>\n      <th>1</th>\n      <td>Jane Mitchell</td>\n      <td>94816 Turner Meadow\\nWest Annetteshire, WA 54126</td>\n      <td>54126</td>\n    </tr>\n    <tr>\n      <th>2</th>\n      <td>Stephen Caldwell</td>\n      <td>480 Matthew Neck\\nEast Lorettahaven, HI 12607</td>\n      <td>12607</td>\n    </tr>\n    <tr>\n      <th>3</th>\n      <td>James Weiss</td>\n      <td>37312 Jenkins Brooks\\nSanchezport, KS 54026</td>\n      <td>54026</td>\n    </tr>\n    <tr>\n      <th>4</th>\n      <td>Danielle Pearson</td>\n      <td>708 Amy Mountains Suite 319\\nMasseyfort, OK 41062</td>\n      <td>41062</td>\n    </tr>\n  </tbody>\n</table>\n</div>"
     },
     "metadata": {},
     "execution_count": 33
    }
   ],
   "source": [
    "def get_zip(row):\n",
    "    '''This function expects a parameter called row which is of type Series.\n",
    "    The expectation is that the Series object has two fields in it, one for\n",
    "    the name of a person and one for the address of the person. This function\n",
    "    will pull out and return the zip code for the address'''\n",
    "    # little tests to make sure our row is formatted properly\n",
    "    assert(\"name\" in row)\n",
    "    assert(\"address\" in row)\n",
    "    \n",
    "    #Let's use a regex to find the zip code!\n",
    "    import re\n",
    "    pattern = '\\d{5}'\n",
    "    zips = re.findall(pattern, row['address'])\n",
    "    return zips[-1]\n",
    "\n",
    "people['zip codes'] = people.apply(get_zip, axis=1)\n",
    "people.head()"
   ]
  },
  {
   "cell_type": "code",
   "execution_count": null,
   "metadata": {},
   "outputs": [],
   "source": [
    "people"
   ]
  },
  {
   "cell_type": "markdown",
   "metadata": {},
   "source": [
    "Let's try one more example...with even more addresses!"
   ]
  },
  {
   "cell_type": "code",
   "execution_count": 34,
   "metadata": {},
   "outputs": [],
   "source": [
    "%%fakermaker\n",
    "person_info\n",
    "-----------\n",
    "address as home\n",
    "address as work\n",
    "address as school\n",
    "ssn"
   ]
  },
  {
   "cell_type": "code",
   "execution_count": 35,
   "metadata": {},
   "outputs": [
    {
     "output_type": "execute_result",
     "data": {
      "text/plain": [
       "                                              home  \\\n",
       "0           20298 Harris Coves\\nPort Kim, MD 51809   \n",
       "1           46436 Reed Trace\\nEast Brian, OH 16994   \n",
       "2                 PSC 6900, Box 9807\\nAPO AE 13267   \n",
       "3  986 Turner Point Suite 470\\nAyalabury, MD 16167   \n",
       "4                         USCGC Duke\\nFPO AE 88972   \n",
       "\n",
       "                                                work  \\\n",
       "0         45283 Matthew Isle\\nEast William, OK 01639   \n",
       "1     5723 Diana Squares\\nPort Jefferyview, TX 12997   \n",
       "2  41806 Austin Forges Apt. 535\\nAngelastad, MN 1...   \n",
       "3   24748 Nicholas Mews\\nSouth Kyleborough, ID 25912   \n",
       "4          90173 Troy Mews\\nSouth Lisaside, IA 41242   \n",
       "\n",
       "                                             school          ssn  \n",
       "0    88247 Rodgers Burgs\\nSouth Stephanie, OR 89883  149-02-1628  \n",
       "1             259 Neal Mill\\nNorth Angela, NJ 24946  865-16-1263  \n",
       "2          00047 Chris Summit\\nBrownmouth, TN 47772  745-88-0600  \n",
       "3                  Unit 9513 Box 1120\\nDPO AP 68386  833-71-8763  \n",
       "4  073 Nguyen Turnpike\\nWest Kristinhaven, MA 26604  833-71-8763  "
      ],
      "text/html": "<div>\n<style scoped>\n    .dataframe tbody tr th:only-of-type {\n        vertical-align: middle;\n    }\n\n    .dataframe tbody tr th {\n        vertical-align: top;\n    }\n\n    .dataframe thead th {\n        text-align: right;\n    }\n</style>\n<table border=\"1\" class=\"dataframe\">\n  <thead>\n    <tr style=\"text-align: right;\">\n      <th></th>\n      <th>home</th>\n      <th>work</th>\n      <th>school</th>\n      <th>ssn</th>\n    </tr>\n  </thead>\n  <tbody>\n    <tr>\n      <th>0</th>\n      <td>20298 Harris Coves\\nPort Kim, MD 51809</td>\n      <td>45283 Matthew Isle\\nEast William, OK 01639</td>\n      <td>88247 Rodgers Burgs\\nSouth Stephanie, OR 89883</td>\n      <td>149-02-1628</td>\n    </tr>\n    <tr>\n      <th>1</th>\n      <td>46436 Reed Trace\\nEast Brian, OH 16994</td>\n      <td>5723 Diana Squares\\nPort Jefferyview, TX 12997</td>\n      <td>259 Neal Mill\\nNorth Angela, NJ 24946</td>\n      <td>865-16-1263</td>\n    </tr>\n    <tr>\n      <th>2</th>\n      <td>PSC 6900, Box 9807\\nAPO AE 13267</td>\n      <td>41806 Austin Forges Apt. 535\\nAngelastad, MN 1...</td>\n      <td>00047 Chris Summit\\nBrownmouth, TN 47772</td>\n      <td>745-88-0600</td>\n    </tr>\n    <tr>\n      <th>3</th>\n      <td>986 Turner Point Suite 470\\nAyalabury, MD 16167</td>\n      <td>24748 Nicholas Mews\\nSouth Kyleborough, ID 25912</td>\n      <td>Unit 9513 Box 1120\\nDPO AP 68386</td>\n      <td>833-71-8763</td>\n    </tr>\n    <tr>\n      <th>4</th>\n      <td>USCGC Duke\\nFPO AE 88972</td>\n      <td>90173 Troy Mews\\nSouth Lisaside, IA 41242</td>\n      <td>073 Nguyen Turnpike\\nWest Kristinhaven, MA 26604</td>\n      <td>833-71-8763</td>\n    </tr>\n  </tbody>\n</table>\n</div>"
     },
     "metadata": {},
     "execution_count": 35
    }
   ],
   "source": [
    "person_info.head()"
   ]
  },
  {
   "cell_type": "code",
   "execution_count": 43,
   "metadata": {},
   "outputs": [
    {
     "output_type": "stream",
     "name": "stdout",
     "text": [
      "MD\nOH\nAE\nMD\nAE\nMI\nMN\nVT\nIN\nNC\nNM\nME\nPA\nKY\nUT\nUT\nME\nAP\nID\nAE\nWV\nCO\nAZ\nCO\nVA\nID\nNV\nMN\nAZ\nNJ\nAP\nTN\nAL\nVT\nCO\nMI\nMO\nCO\nND\nCO\nIL\nNM\nDE\nIL\nCO\nAK\nMI\nKS\nWA\nMD\nNM\nNV\nNV\nGA\nME\nAA\nIA\nGA\nDE\nWY\nOK\nMT\nWV\nUT\nNC\nOK\nNM\nNE\nNY\nNC\nAZ\nNV\nSD\nIL\nCO\nIN\nCO\nAA\nSD\nMA\nNY\nTX\nVT\nCO\nIA\nTN\nAA\nCT\nRI\nSD\nSC\nNE\nLA\nAE\nMA\nOK\nSD\nOR\nPA\n"
     ]
    },
    {
     "output_type": "execute_result",
     "data": {
      "text/plain": [
       "0     None\n",
       "1     None\n",
       "2     None\n",
       "3     None\n",
       "4     None\n",
       "      ... \n",
       "94    None\n",
       "95    None\n",
       "96    None\n",
       "97    None\n",
       "98    None\n",
       "Length: 99, dtype: object"
      ]
     },
     "metadata": {},
     "execution_count": 43
    }
   ],
   "source": [
    "import re\n",
    "def get_state(x):\n",
    "    home = x['home']\n",
    "    pattern = '[A-Z]{2}'\n",
    "    state = re.findall(pattern, home)\n",
    "    if len(state) > 0:\n",
    "        print(state[-1])\n",
    "\n",
    "person_info.apply(get_state, axis=1)"
   ]
  },
  {
   "cell_type": "code",
   "execution_count": null,
   "metadata": {},
   "outputs": [],
   "source": []
  }
 ],
 "metadata": {
  "celltoolbar": "Slideshow",
  "kernelspec": {
   "display_name": "Python 3",
   "language": "python",
   "name": "python3"
  },
  "language_info": {
   "codemirror_mode": {
    "name": "ipython",
    "version": 3
   },
   "file_extension": ".py",
   "mimetype": "text/x-python",
   "name": "python",
   "nbconvert_exporter": "python",
   "pygments_lexer": "ipython3",
   "version": "3.8.1-final"
  }
 },
 "nbformat": 4,
 "nbformat_minor": 4
}