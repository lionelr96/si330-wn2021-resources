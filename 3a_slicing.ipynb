{
 "cells": [
  {
   "cell_type": "markdown",
   "metadata": {
    "slideshow": {
     "slide_type": "slide"
    }
   },
   "source": [
    "## SI 330 Class 2/9"
   ]
  },
  {
   "cell_type": "markdown",
   "metadata": {},
   "source": [
    "### Study Habits\n",
    " - Jamboard Activity\n",
    " - Spaced Repetition\n",
    " - Video Analytics\n",
    " - Note taking\n",
    " \n",
    "**Poll Question 1 (20)**\n",
    "\n",
    "### Reading in Tables\n",
    "* While `read_csv()` is cool, `read_html()` is really cool"
   ]
  },
  {
   "cell_type": "code",
   "execution_count": 48,
   "metadata": {},
   "outputs": [
    {
     "output_type": "execute_result",
     "data": {
      "text/plain": [
       "                  Date                        State(s)   Magnitude Fatalities  \\\n",
       "0     January 26, 1700  Washington, Oregon, California  8.7–9.2 Mw    Unknown   \n",
       "1    November 18, 1755                   Massachusetts      5.9 Mw          0   \n",
       "2        July 21, 1788                          Alaska      8.0 Ms    Unknown   \n",
       "3       August 6, 1788                          Alaska      8.0 Ms    Unknown   \n",
       "4    December 16, 1811                        Missouri  7.5–8.0 Mw    100−500   \n",
       "..                 ...                             ...         ...        ...   \n",
       "173     March 31, 2020                           Idaho     6.5 Mww          0   \n",
       "174       May 15, 2020                          Nevada      6.5 ML          0   \n",
       "175      July 22, 2020                          Alaska      7.8 Mw          0   \n",
       "176     August 9, 2020                  North Carolina      5.1 Mw          0   \n",
       "177   October 19, 2020                          Alaska     7.6 Mww          0   \n",
       "\n",
       "                              Article Further information  \n",
       "0            1700 Cascadia earthquake                 NaN  \n",
       "1            1755 Cape Ann earthquake                 NaN  \n",
       "2           1788 Alaska earthquake[1]                 NaN  \n",
       "3           1788 Alaska earthquake[1]                 NaN  \n",
       "4    1811–1812 New Madrid earthquakes                 NaN  \n",
       "..                                ...                 ...  \n",
       "173     2020 Central Idaho earthquake                 NaN  \n",
       "174        2020 Nevada earthquake[42]                 NaN  \n",
       "175        2020 Alaska earthquake[43]                 NaN  \n",
       "176        2020 Sparta earthquake[44]                 NaN  \n",
       "177    2020 Sand Point earthquake[45]                 NaN  \n",
       "\n",
       "[178 rows x 6 columns]"
      ],
      "text/html": "<div>\n<style scoped>\n    .dataframe tbody tr th:only-of-type {\n        vertical-align: middle;\n    }\n\n    .dataframe tbody tr th {\n        vertical-align: top;\n    }\n\n    .dataframe thead th {\n        text-align: right;\n    }\n</style>\n<table border=\"1\" class=\"dataframe\">\n  <thead>\n    <tr style=\"text-align: right;\">\n      <th></th>\n      <th>Date</th>\n      <th>State(s)</th>\n      <th>Magnitude</th>\n      <th>Fatalities</th>\n      <th>Article</th>\n      <th>Further information</th>\n    </tr>\n  </thead>\n  <tbody>\n    <tr>\n      <th>0</th>\n      <td>January 26, 1700</td>\n      <td>Washington, Oregon, California</td>\n      <td>8.7–9.2 Mw</td>\n      <td>Unknown</td>\n      <td>1700 Cascadia earthquake</td>\n      <td>NaN</td>\n    </tr>\n    <tr>\n      <th>1</th>\n      <td>November 18, 1755</td>\n      <td>Massachusetts</td>\n      <td>5.9 Mw</td>\n      <td>0</td>\n      <td>1755 Cape Ann earthquake</td>\n      <td>NaN</td>\n    </tr>\n    <tr>\n      <th>2</th>\n      <td>July 21, 1788</td>\n      <td>Alaska</td>\n      <td>8.0 Ms</td>\n      <td>Unknown</td>\n      <td>1788 Alaska earthquake[1]</td>\n      <td>NaN</td>\n    </tr>\n    <tr>\n      <th>3</th>\n      <td>August 6, 1788</td>\n      <td>Alaska</td>\n      <td>8.0 Ms</td>\n      <td>Unknown</td>\n      <td>1788 Alaska earthquake[1]</td>\n      <td>NaN</td>\n    </tr>\n    <tr>\n      <th>4</th>\n      <td>December 16, 1811</td>\n      <td>Missouri</td>\n      <td>7.5–8.0 Mw</td>\n      <td>100−500</td>\n      <td>1811–1812 New Madrid earthquakes</td>\n      <td>NaN</td>\n    </tr>\n    <tr>\n      <th>...</th>\n      <td>...</td>\n      <td>...</td>\n      <td>...</td>\n      <td>...</td>\n      <td>...</td>\n      <td>...</td>\n    </tr>\n    <tr>\n      <th>173</th>\n      <td>March 31, 2020</td>\n      <td>Idaho</td>\n      <td>6.5 Mww</td>\n      <td>0</td>\n      <td>2020 Central Idaho earthquake</td>\n      <td>NaN</td>\n    </tr>\n    <tr>\n      <th>174</th>\n      <td>May 15, 2020</td>\n      <td>Nevada</td>\n      <td>6.5 ML</td>\n      <td>0</td>\n      <td>2020 Nevada earthquake[42]</td>\n      <td>NaN</td>\n    </tr>\n    <tr>\n      <th>175</th>\n      <td>July 22, 2020</td>\n      <td>Alaska</td>\n      <td>7.8 Mw</td>\n      <td>0</td>\n      <td>2020 Alaska earthquake[43]</td>\n      <td>NaN</td>\n    </tr>\n    <tr>\n      <th>176</th>\n      <td>August 9, 2020</td>\n      <td>North Carolina</td>\n      <td>5.1 Mw</td>\n      <td>0</td>\n      <td>2020 Sparta earthquake[44]</td>\n      <td>NaN</td>\n    </tr>\n    <tr>\n      <th>177</th>\n      <td>October 19, 2020</td>\n      <td>Alaska</td>\n      <td>7.6 Mww</td>\n      <td>0</td>\n      <td>2020 Sand Point earthquake[45]</td>\n      <td>NaN</td>\n    </tr>\n  </tbody>\n</table>\n<p>178 rows × 6 columns</p>\n</div>"
     },
     "metadata": {},
     "execution_count": 48
    }
   ],
   "source": [
    "import pandas as pd\n",
    "df = pd.read_html('https://en.wikipedia.org/wiki/List_of_earthquakes_in_the_United_States')\n",
    "df = df[0]\n",
    "df"
   ]
  },
  {
   "cell_type": "markdown",
   "metadata": {
    "slideshow": {
     "slide_type": "slide"
    }
   },
   "source": [
    "### Manipulating Tables\n"
   ]
  },
  {
   "cell_type": "code",
   "execution_count": null,
   "metadata": {},
   "outputs": [],
   "source": [
    "# ----------- Preprocessing ------------\n",
    "#dropping NaN column \n",
    "\n",
    "#dropping unknowns \n"
   ]
  },
  {
   "cell_type": "code",
   "execution_count": 44,
   "metadata": {},
   "outputs": [
    {
     "output_type": "execute_result",
     "data": {
      "text/plain": [
       "                  Date                        State(s)   Magnitude Fatalities  \\\n",
       "0     January 26, 1700  Washington, Oregon, California  8.7–9.2 Mw    Unknown   \n",
       "1    November 18, 1755                   Massachusetts      5.9 Mw          0   \n",
       "2        July 21, 1788                          Alaska      8.0 Ms    Unknown   \n",
       "3       August 6, 1788                          Alaska      8.0 Ms    Unknown   \n",
       "4    December 16, 1811                        Missouri  7.5–8.0 Mw    100−500   \n",
       "..                 ...                             ...         ...        ...   \n",
       "173     March 31, 2020                           Idaho     6.5 Mww          0   \n",
       "174       May 15, 2020                          Nevada      6.5 ML          0   \n",
       "175      July 22, 2020                          Alaska      7.8 Mw          0   \n",
       "176     August 9, 2020                  North Carolina      5.1 Mw          0   \n",
       "177   October 19, 2020                          Alaska     7.6 Mww          0   \n",
       "\n",
       "                              Article Further information  \n",
       "0            1700 Cascadia earthquake                 NaN  \n",
       "1            1755 Cape Ann earthquake                 NaN  \n",
       "2           1788 Alaska earthquake[1]                 NaN  \n",
       "3           1788 Alaska earthquake[1]                 NaN  \n",
       "4    1811–1812 New Madrid earthquakes                 NaN  \n",
       "..                                ...                 ...  \n",
       "173     2020 Central Idaho earthquake                 NaN  \n",
       "174        2020 Nevada earthquake[42]                 NaN  \n",
       "175        2020 Alaska earthquake[43]                 NaN  \n",
       "176        2020 Sparta earthquake[44]                 NaN  \n",
       "177    2020 Sand Point earthquake[45]                 NaN  \n",
       "\n",
       "[178 rows x 6 columns]"
      ],
      "text/html": "<div>\n<style scoped>\n    .dataframe tbody tr th:only-of-type {\n        vertical-align: middle;\n    }\n\n    .dataframe tbody tr th {\n        vertical-align: top;\n    }\n\n    .dataframe thead th {\n        text-align: right;\n    }\n</style>\n<table border=\"1\" class=\"dataframe\">\n  <thead>\n    <tr style=\"text-align: right;\">\n      <th></th>\n      <th>Date</th>\n      <th>State(s)</th>\n      <th>Magnitude</th>\n      <th>Fatalities</th>\n      <th>Article</th>\n      <th>Further information</th>\n    </tr>\n  </thead>\n  <tbody>\n    <tr>\n      <th>0</th>\n      <td>January 26, 1700</td>\n      <td>Washington, Oregon, California</td>\n      <td>8.7–9.2 Mw</td>\n      <td>Unknown</td>\n      <td>1700 Cascadia earthquake</td>\n      <td>NaN</td>\n    </tr>\n    <tr>\n      <th>1</th>\n      <td>November 18, 1755</td>\n      <td>Massachusetts</td>\n      <td>5.9 Mw</td>\n      <td>0</td>\n      <td>1755 Cape Ann earthquake</td>\n      <td>NaN</td>\n    </tr>\n    <tr>\n      <th>2</th>\n      <td>July 21, 1788</td>\n      <td>Alaska</td>\n      <td>8.0 Ms</td>\n      <td>Unknown</td>\n      <td>1788 Alaska earthquake[1]</td>\n      <td>NaN</td>\n    </tr>\n    <tr>\n      <th>3</th>\n      <td>August 6, 1788</td>\n      <td>Alaska</td>\n      <td>8.0 Ms</td>\n      <td>Unknown</td>\n      <td>1788 Alaska earthquake[1]</td>\n      <td>NaN</td>\n    </tr>\n    <tr>\n      <th>4</th>\n      <td>December 16, 1811</td>\n      <td>Missouri</td>\n      <td>7.5–8.0 Mw</td>\n      <td>100−500</td>\n      <td>1811–1812 New Madrid earthquakes</td>\n      <td>NaN</td>\n    </tr>\n    <tr>\n      <th>...</th>\n      <td>...</td>\n      <td>...</td>\n      <td>...</td>\n      <td>...</td>\n      <td>...</td>\n      <td>...</td>\n    </tr>\n    <tr>\n      <th>173</th>\n      <td>March 31, 2020</td>\n      <td>Idaho</td>\n      <td>6.5 Mww</td>\n      <td>0</td>\n      <td>2020 Central Idaho earthquake</td>\n      <td>NaN</td>\n    </tr>\n    <tr>\n      <th>174</th>\n      <td>May 15, 2020</td>\n      <td>Nevada</td>\n      <td>6.5 ML</td>\n      <td>0</td>\n      <td>2020 Nevada earthquake[42]</td>\n      <td>NaN</td>\n    </tr>\n    <tr>\n      <th>175</th>\n      <td>July 22, 2020</td>\n      <td>Alaska</td>\n      <td>7.8 Mw</td>\n      <td>0</td>\n      <td>2020 Alaska earthquake[43]</td>\n      <td>NaN</td>\n    </tr>\n    <tr>\n      <th>176</th>\n      <td>August 9, 2020</td>\n      <td>North Carolina</td>\n      <td>5.1 Mw</td>\n      <td>0</td>\n      <td>2020 Sparta earthquake[44]</td>\n      <td>NaN</td>\n    </tr>\n    <tr>\n      <th>177</th>\n      <td>October 19, 2020</td>\n      <td>Alaska</td>\n      <td>7.6 Mww</td>\n      <td>0</td>\n      <td>2020 Sand Point earthquake[45]</td>\n      <td>NaN</td>\n    </tr>\n  </tbody>\n</table>\n<p>178 rows × 6 columns</p>\n</div>"
     },
     "metadata": {},
     "execution_count": 44
    }
   ],
   "source": [
    "#Creating some new columns (with regex review!)\n",
    "import re\n",
    "\n",
    "# dates = [re.findall('(\\w*)\\s?(\\d{1,2})?,?\\s(\\d{4})', i) for i in df['Date']]\n",
    "# years = [re.findall('(\\w*)\\s?(\\d{1,2})?,?\\s(\\d{4})', i)[0][2] for i in df['Date']][0]\n",
    "\n",
    "years = []\n",
    "months = []\n",
    "\n",
    "for i in df['Date']:\n",
    "    results = re.findall('(\\w*)\\s?(\\d{1,2})?,?\\s(\\d{4})', i)\n",
    "    years.append(results[0][2])\n",
    "\n",
    "\n",
    "\n",
    "#Setting indices and creating a multilevel index \n",
    "df\n",
    "# df = df.set_index(['Year', 'State(s)'], inplace=True)\n"
   ]
  },
  {
   "cell_type": "code",
   "execution_count": null,
   "metadata": {},
   "outputs": [],
   "source": [
    "%timeit df.loc[('1812', 'California')]"
   ]
  },
  {
   "cell_type": "markdown",
   "metadata": {
    "slideshow": {
     "slide_type": "slide"
    }
   },
   "source": [
    "### Exploring Tables\n",
    "**Poll Question 2 (10)**"
   ]
  },
  {
   "cell_type": "code",
   "execution_count": null,
   "metadata": {},
   "outputs": [],
   "source": [
    "df.head()"
   ]
  },
  {
   "cell_type": "code",
   "execution_count": null,
   "metadata": {
    "slideshow": {
     "slide_type": "subslide"
    }
   },
   "outputs": [],
   "source": [
    "#Quick indexing refresher\n"
   ]
  },
  {
   "cell_type": "code",
   "execution_count": null,
   "metadata": {
    "slideshow": {
     "slide_type": "slide"
    }
   },
   "outputs": [],
   "source": [
    "#Breakout Activity, 10 min.: \n",
    "#Number of fatalities of greatest mag. earthquake in a particular state "
   ]
  },
  {
   "cell_type": "markdown",
   "metadata": {},
   "source": [
    "**Poll Question 3 (10)**"
   ]
  },
  {
   "cell_type": "markdown",
   "metadata": {},
   "source": [
    "### Tool Building"
   ]
  },
  {
   "cell_type": "code",
   "execution_count": null,
   "metadata": {},
   "outputs": [],
   "source": [
    "# if time permits"
   ]
  },
  {
   "cell_type": "markdown",
   "metadata": {},
   "source": [
    "### End Matter\n",
    "\n",
    "- Data Dictionaries\n",
    "- HW Preview & New Submission Process\n",
    "- Lab (Zoom)"
   ]
  }
 ],
 "metadata": {
  "celltoolbar": "Slideshow",
  "hide_code_all_hidden": true,
  "kernelspec": {
   "display_name": "Python 3",
   "language": "python",
   "name": "python3"
  },
  "language_info": {
   "codemirror_mode": {
    "name": "ipython",
    "version": 3
   },
   "file_extension": ".py",
   "mimetype": "text/x-python",
   "name": "python",
   "nbconvert_exporter": "python",
   "pygments_lexer": "ipython3",
   "version": "3.8.1-final"
  }
 },
 "nbformat": 4,
 "nbformat_minor": 4
}