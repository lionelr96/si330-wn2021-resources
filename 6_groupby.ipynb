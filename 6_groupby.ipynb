{
 "cells": [
  {
   "cell_type": "markdown",
   "metadata": {
    "slideshow": {
     "slide_type": "slide"
    }
   },
   "source": [
    "# Groupby\n",
    "* Often we want to split up and work with data based on groups\n",
    "* Pandas allows us to iterate through rows and columns in a dataframe, but this is sort of slow\n",
    "* Pandas also supports `groupby()` through a split-apply-combine pattern"
   ]
  },
  {
   "cell_type": "markdown",
   "metadata": {
    "slideshow": {
     "slide_type": "slide"
    }
   },
   "source": [
    "## Splitting\n",
    "* Let's get motivated first"
   ]
  },
  {
   "cell_type": "code",
   "execution_count": 6,
   "metadata": {
    "slideshow": {
     "slide_type": "subslide"
    }
   },
   "outputs": [
    {
     "output_type": "execute_result",
     "data": {
      "text/plain": [
       "   SUMLEV  REGION  DIVISION  STATE  COUNTY   STNAME         CTYNAME  \\\n",
       "1      50       3         6      1       1  Alabama  Autauga County   \n",
       "2      50       3         6      1       3  Alabama  Baldwin County   \n",
       "3      50       3         6      1       5  Alabama  Barbour County   \n",
       "4      50       3         6      1       7  Alabama     Bibb County   \n",
       "5      50       3         6      1       9  Alabama   Blount County   \n",
       "\n",
       "   CENSUS2010POP  ESTIMATESBASE2010  POPESTIMATE2010  ...  RDOMESTICMIG2011  \\\n",
       "1          54571              54571            54660  ...          7.242091   \n",
       "2         182265             182265           183193  ...         14.832960   \n",
       "3          27457              27457            27341  ...         -4.728132   \n",
       "4          22915              22919            22861  ...         -5.527043   \n",
       "5          57322              57322            57373  ...          1.807375   \n",
       "\n",
       "   RDOMESTICMIG2012  RDOMESTICMIG2013  RDOMESTICMIG2014  RDOMESTICMIG2015  \\\n",
       "1         -2.915927         -3.012349          2.265971         -2.530799   \n",
       "2         17.647293         21.845705         19.243287         17.197872   \n",
       "3         -2.500690         -7.056824         -3.904217        -10.543299   \n",
       "4         -5.068871         -6.201001         -0.177537          0.177258   \n",
       "5         -1.177622         -1.748766         -2.062535         -1.369970   \n",
       "\n",
       "   RNETMIG2011  RNETMIG2012  RNETMIG2013  RNETMIG2014  RNETMIG2015  \n",
       "1     7.606016    -2.626146    -2.722002     2.592270    -2.187333  \n",
       "2    15.844176    18.559627    22.727626    20.317142    18.293499  \n",
       "3    -4.874741    -2.758113    -7.167664    -3.978583   -10.543299  \n",
       "4    -5.088389    -4.363636    -5.403729     0.754533     1.107861  \n",
       "5     1.859511    -0.848580    -1.402476    -1.577232    -0.884411  \n",
       "\n",
       "[5 rows x 100 columns]"
      ],
      "text/html": "<div>\n<style scoped>\n    .dataframe tbody tr th:only-of-type {\n        vertical-align: middle;\n    }\n\n    .dataframe tbody tr th {\n        vertical-align: top;\n    }\n\n    .dataframe thead th {\n        text-align: right;\n    }\n</style>\n<table border=\"1\" class=\"dataframe\">\n  <thead>\n    <tr style=\"text-align: right;\">\n      <th></th>\n      <th>SUMLEV</th>\n      <th>REGION</th>\n      <th>DIVISION</th>\n      <th>STATE</th>\n      <th>COUNTY</th>\n      <th>STNAME</th>\n      <th>CTYNAME</th>\n      <th>CENSUS2010POP</th>\n      <th>ESTIMATESBASE2010</th>\n      <th>POPESTIMATE2010</th>\n      <th>...</th>\n      <th>RDOMESTICMIG2011</th>\n      <th>RDOMESTICMIG2012</th>\n      <th>RDOMESTICMIG2013</th>\n      <th>RDOMESTICMIG2014</th>\n      <th>RDOMESTICMIG2015</th>\n      <th>RNETMIG2011</th>\n      <th>RNETMIG2012</th>\n      <th>RNETMIG2013</th>\n      <th>RNETMIG2014</th>\n      <th>RNETMIG2015</th>\n    </tr>\n  </thead>\n  <tbody>\n    <tr>\n      <th>1</th>\n      <td>50</td>\n      <td>3</td>\n      <td>6</td>\n      <td>1</td>\n      <td>1</td>\n      <td>Alabama</td>\n      <td>Autauga County</td>\n      <td>54571</td>\n      <td>54571</td>\n      <td>54660</td>\n      <td>...</td>\n      <td>7.242091</td>\n      <td>-2.915927</td>\n      <td>-3.012349</td>\n      <td>2.265971</td>\n      <td>-2.530799</td>\n      <td>7.606016</td>\n      <td>-2.626146</td>\n      <td>-2.722002</td>\n      <td>2.592270</td>\n      <td>-2.187333</td>\n    </tr>\n    <tr>\n      <th>2</th>\n      <td>50</td>\n      <td>3</td>\n      <td>6</td>\n      <td>1</td>\n      <td>3</td>\n      <td>Alabama</td>\n      <td>Baldwin County</td>\n      <td>182265</td>\n      <td>182265</td>\n      <td>183193</td>\n      <td>...</td>\n      <td>14.832960</td>\n      <td>17.647293</td>\n      <td>21.845705</td>\n      <td>19.243287</td>\n      <td>17.197872</td>\n      <td>15.844176</td>\n      <td>18.559627</td>\n      <td>22.727626</td>\n      <td>20.317142</td>\n      <td>18.293499</td>\n    </tr>\n    <tr>\n      <th>3</th>\n      <td>50</td>\n      <td>3</td>\n      <td>6</td>\n      <td>1</td>\n      <td>5</td>\n      <td>Alabama</td>\n      <td>Barbour County</td>\n      <td>27457</td>\n      <td>27457</td>\n      <td>27341</td>\n      <td>...</td>\n      <td>-4.728132</td>\n      <td>-2.500690</td>\n      <td>-7.056824</td>\n      <td>-3.904217</td>\n      <td>-10.543299</td>\n      <td>-4.874741</td>\n      <td>-2.758113</td>\n      <td>-7.167664</td>\n      <td>-3.978583</td>\n      <td>-10.543299</td>\n    </tr>\n    <tr>\n      <th>4</th>\n      <td>50</td>\n      <td>3</td>\n      <td>6</td>\n      <td>1</td>\n      <td>7</td>\n      <td>Alabama</td>\n      <td>Bibb County</td>\n      <td>22915</td>\n      <td>22919</td>\n      <td>22861</td>\n      <td>...</td>\n      <td>-5.527043</td>\n      <td>-5.068871</td>\n      <td>-6.201001</td>\n      <td>-0.177537</td>\n      <td>0.177258</td>\n      <td>-5.088389</td>\n      <td>-4.363636</td>\n      <td>-5.403729</td>\n      <td>0.754533</td>\n      <td>1.107861</td>\n    </tr>\n    <tr>\n      <th>5</th>\n      <td>50</td>\n      <td>3</td>\n      <td>6</td>\n      <td>1</td>\n      <td>9</td>\n      <td>Alabama</td>\n      <td>Blount County</td>\n      <td>57322</td>\n      <td>57322</td>\n      <td>57373</td>\n      <td>...</td>\n      <td>1.807375</td>\n      <td>-1.177622</td>\n      <td>-1.748766</td>\n      <td>-2.062535</td>\n      <td>-1.369970</td>\n      <td>1.859511</td>\n      <td>-0.848580</td>\n      <td>-1.402476</td>\n      <td>-1.577232</td>\n      <td>-0.884411</td>\n    </tr>\n  </tbody>\n</table>\n<p>5 rows × 100 columns</p>\n</div>"
     },
     "metadata": {},
     "execution_count": 6
    }
   ],
   "source": [
    "import pandas as pd\n",
    "import numpy as np\n",
    "df = pd.read_csv('datasets/census.csv')\n",
    "df = df[df['SUMLEV']==50]\n",
    "df.head()"
   ]
  },
  {
   "source": [
    "for state in df['STNAME'].unique():\n",
    "    print(state)"
   ],
   "cell_type": "code",
   "metadata": {
    "slideshow": {
     "slide_type": "slide"
    },
    "tags": []
   },
   "execution_count": 7,
   "outputs": [
    {
     "output_type": "stream",
     "name": "stdout",
     "text": [
      "Alabama\nAlaska\nArizona\nArkansas\nCalifornia\nColorado\nConnecticut\nDelaware\nDistrict of Columbia\nFlorida\nGeorgia\nHawaii\nIdaho\nIllinois\nIndiana\nIowa\nKansas\nKentucky\nLouisiana\nMaine\nMaryland\nMassachusetts\nMichigan\nMinnesota\nMississippi\nMissouri\nMontana\nNebraska\nNevada\nNew Hampshire\nNew Jersey\nNew Mexico\nNew York\nNorth Carolina\nNorth Dakota\nOhio\nOklahoma\nOregon\nPennsylvania\nRhode Island\nSouth Carolina\nSouth Dakota\nTennessee\nTexas\nUtah\nVermont\nVirginia\nWashington\nWest Virginia\nWisconsin\nWyoming\n"
     ]
    }
   ]
  },
  {
   "cell_type": "code",
   "execution_count": 8,
   "metadata": {
    "slideshow": {
     "slide_type": "slide"
    }
   },
   "outputs": [
    {
     "output_type": "stream",
     "name": "stdout",
     "text": [
      "Alabama\nAlaska\nArizona\nArkansas\nCalifornia\nColorado\nConnecticut\nDelaware\nDistrict of Columbia\nFlorida\nGeorgia\nHawaii\nIdaho\nIllinois\nIndiana\nIowa\nKansas\nKentucky\nLouisiana\nMaine\nMaryland\nMassachusetts\nMichigan\nMinnesota\nMississippi\nMissouri\nMontana\nNebraska\nNevada\nNew Hampshire\nNew Jersey\nNew Mexico\nNew York\nNorth Carolina\nNorth Dakota\nOhio\nOklahoma\nOregon\nPennsylvania\nRhode Island\nSouth Carolina\nSouth Dakota\nTennessee\nTexas\nUtah\nVermont\nVirginia\nWashington\nWest Virginia\nWisconsin\nWyoming\n"
     ]
    }
   ],
   "source": [
    "# groupby method\n",
    "for group, frame in df.groupby('STNAME'):\n",
    "    print(group)"
   ]
  },
  {
   "cell_type": "markdown",
   "metadata": {
    "slideshow": {
     "slide_type": "slide"
    }
   },
   "source": [
    "* Ok, so `groupby` is great\n",
    "* Usually you'll group by data in a column, but you can also provide a function to groupby and use that to segment your data."
   ]
  },
  {
   "cell_type": "code",
   "execution_count": 9,
   "metadata": {
    "slideshow": {
     "slide_type": "slide"
    }
   },
   "outputs": [],
   "source": [
    "def set_batch_number(item):\n",
    "    return 0\n",
    "\n"
   ]
  },
  {
   "cell_type": "markdown",
   "metadata": {
    "slideshow": {
     "slide_type": "slide"
    }
   },
   "source": [
    "* We can also group by multiple columns"
   ]
  },
  {
   "cell_type": "code",
   "execution_count": 10,
   "metadata": {
    "slideshow": {
     "slide_type": "subslide"
    }
   },
   "outputs": [
    {
     "output_type": "execute_result",
     "data": {
      "text/plain": [
       "         id                            listing_url       scrape_id  \\\n",
       "0  12147973  https://www.airbnb.com/rooms/12147973  20160906204935   \n",
       "1   3075044   https://www.airbnb.com/rooms/3075044  20160906204935   \n",
       "2      6976      https://www.airbnb.com/rooms/6976  20160906204935   \n",
       "3   1436513   https://www.airbnb.com/rooms/1436513  20160906204935   \n",
       "4   7651065   https://www.airbnb.com/rooms/7651065  20160906204935   \n",
       "\n",
       "  last_scraped                                           name  \\\n",
       "0   2016-09-07                     Sunny Bungalow in the City   \n",
       "1   2016-09-07              Charming room in pet friendly apt   \n",
       "2   2016-09-07               Mexican Folk Art Haven in Boston   \n",
       "3   2016-09-07  Spacious Sunny Bedroom Suite in Historic Home   \n",
       "4   2016-09-07                            Come Home to Boston   \n",
       "\n",
       "                                             summary  \\\n",
       "0  Cozy, sunny, family home.  Master bedroom high...   \n",
       "1  Charming and quiet room in a second floor 1910...   \n",
       "2  Come stay with a friendly, middle-aged guy in ...   \n",
       "3  Come experience the comforts of home away from...   \n",
       "4  My comfy, clean and relaxing home is one block...   \n",
       "\n",
       "                                               space  \\\n",
       "0  The house has an open and cozy feel at the sam...   \n",
       "1  Small but cozy and quite room with a full size...   \n",
       "2  Come stay with a friendly, middle-aged guy in ...   \n",
       "3  Most places you find in Boston are small howev...   \n",
       "4  Clean, attractive, private room, one block fro...   \n",
       "\n",
       "                                         description experiences_offered  \\\n",
       "0  Cozy, sunny, family home.  Master bedroom high...                none   \n",
       "1  Charming and quiet room in a second floor 1910...                none   \n",
       "2  Come stay with a friendly, middle-aged guy in ...                none   \n",
       "3  Come experience the comforts of home away from...                none   \n",
       "4  My comfy, clean and relaxing home is one block...                none   \n",
       "\n",
       "                               neighborhood_overview  ... review_scores_value  \\\n",
       "0  Roslindale is quiet, convenient and friendly. ...  ...                 NaN   \n",
       "1  The room is in Roslindale, a diverse and prima...  ...                 9.0   \n",
       "2  The LOCATION: Roslindale is a safe and diverse...  ...                10.0   \n",
       "3  Roslindale is a lovely little neighborhood loc...  ...                10.0   \n",
       "4  I love the proximity to downtown, the neighbor...  ...                10.0   \n",
       "\n",
       "  requires_license license jurisdiction_names instant_bookable  \\\n",
       "0                f     NaN                NaN                f   \n",
       "1                f     NaN                NaN                t   \n",
       "2                f     NaN                NaN                f   \n",
       "3                f     NaN                NaN                f   \n",
       "4                f     NaN                NaN                f   \n",
       "\n",
       "  cancellation_policy require_guest_profile_picture  \\\n",
       "0            moderate                             f   \n",
       "1            moderate                             f   \n",
       "2            moderate                             t   \n",
       "3            moderate                             f   \n",
       "4            flexible                             f   \n",
       "\n",
       "  require_guest_phone_verification calculated_host_listings_count  \\\n",
       "0                                f                              1   \n",
       "1                                f                              1   \n",
       "2                                f                              1   \n",
       "3                                f                              1   \n",
       "4                                f                              1   \n",
       "\n",
       "   reviews_per_month  \n",
       "0                NaN  \n",
       "1               1.30  \n",
       "2               0.47  \n",
       "3               1.00  \n",
       "4               2.25  \n",
       "\n",
       "[5 rows x 95 columns]"
      ],
      "text/html": "<div>\n<style scoped>\n    .dataframe tbody tr th:only-of-type {\n        vertical-align: middle;\n    }\n\n    .dataframe tbody tr th {\n        vertical-align: top;\n    }\n\n    .dataframe thead th {\n        text-align: right;\n    }\n</style>\n<table border=\"1\" class=\"dataframe\">\n  <thead>\n    <tr style=\"text-align: right;\">\n      <th></th>\n      <th>id</th>\n      <th>listing_url</th>\n      <th>scrape_id</th>\n      <th>last_scraped</th>\n      <th>name</th>\n      <th>summary</th>\n      <th>space</th>\n      <th>description</th>\n      <th>experiences_offered</th>\n      <th>neighborhood_overview</th>\n      <th>...</th>\n      <th>review_scores_value</th>\n      <th>requires_license</th>\n      <th>license</th>\n      <th>jurisdiction_names</th>\n      <th>instant_bookable</th>\n      <th>cancellation_policy</th>\n      <th>require_guest_profile_picture</th>\n      <th>require_guest_phone_verification</th>\n      <th>calculated_host_listings_count</th>\n      <th>reviews_per_month</th>\n    </tr>\n  </thead>\n  <tbody>\n    <tr>\n      <th>0</th>\n      <td>12147973</td>\n      <td>https://www.airbnb.com/rooms/12147973</td>\n      <td>20160906204935</td>\n      <td>2016-09-07</td>\n      <td>Sunny Bungalow in the City</td>\n      <td>Cozy, sunny, family home.  Master bedroom high...</td>\n      <td>The house has an open and cozy feel at the sam...</td>\n      <td>Cozy, sunny, family home.  Master bedroom high...</td>\n      <td>none</td>\n      <td>Roslindale is quiet, convenient and friendly. ...</td>\n      <td>...</td>\n      <td>NaN</td>\n      <td>f</td>\n      <td>NaN</td>\n      <td>NaN</td>\n      <td>f</td>\n      <td>moderate</td>\n      <td>f</td>\n      <td>f</td>\n      <td>1</td>\n      <td>NaN</td>\n    </tr>\n    <tr>\n      <th>1</th>\n      <td>3075044</td>\n      <td>https://www.airbnb.com/rooms/3075044</td>\n      <td>20160906204935</td>\n      <td>2016-09-07</td>\n      <td>Charming room in pet friendly apt</td>\n      <td>Charming and quiet room in a second floor 1910...</td>\n      <td>Small but cozy and quite room with a full size...</td>\n      <td>Charming and quiet room in a second floor 1910...</td>\n      <td>none</td>\n      <td>The room is in Roslindale, a diverse and prima...</td>\n      <td>...</td>\n      <td>9.0</td>\n      <td>f</td>\n      <td>NaN</td>\n      <td>NaN</td>\n      <td>t</td>\n      <td>moderate</td>\n      <td>f</td>\n      <td>f</td>\n      <td>1</td>\n      <td>1.30</td>\n    </tr>\n    <tr>\n      <th>2</th>\n      <td>6976</td>\n      <td>https://www.airbnb.com/rooms/6976</td>\n      <td>20160906204935</td>\n      <td>2016-09-07</td>\n      <td>Mexican Folk Art Haven in Boston</td>\n      <td>Come stay with a friendly, middle-aged guy in ...</td>\n      <td>Come stay with a friendly, middle-aged guy in ...</td>\n      <td>Come stay with a friendly, middle-aged guy in ...</td>\n      <td>none</td>\n      <td>The LOCATION: Roslindale is a safe and diverse...</td>\n      <td>...</td>\n      <td>10.0</td>\n      <td>f</td>\n      <td>NaN</td>\n      <td>NaN</td>\n      <td>f</td>\n      <td>moderate</td>\n      <td>t</td>\n      <td>f</td>\n      <td>1</td>\n      <td>0.47</td>\n    </tr>\n    <tr>\n      <th>3</th>\n      <td>1436513</td>\n      <td>https://www.airbnb.com/rooms/1436513</td>\n      <td>20160906204935</td>\n      <td>2016-09-07</td>\n      <td>Spacious Sunny Bedroom Suite in Historic Home</td>\n      <td>Come experience the comforts of home away from...</td>\n      <td>Most places you find in Boston are small howev...</td>\n      <td>Come experience the comforts of home away from...</td>\n      <td>none</td>\n      <td>Roslindale is a lovely little neighborhood loc...</td>\n      <td>...</td>\n      <td>10.0</td>\n      <td>f</td>\n      <td>NaN</td>\n      <td>NaN</td>\n      <td>f</td>\n      <td>moderate</td>\n      <td>f</td>\n      <td>f</td>\n      <td>1</td>\n      <td>1.00</td>\n    </tr>\n    <tr>\n      <th>4</th>\n      <td>7651065</td>\n      <td>https://www.airbnb.com/rooms/7651065</td>\n      <td>20160906204935</td>\n      <td>2016-09-07</td>\n      <td>Come Home to Boston</td>\n      <td>My comfy, clean and relaxing home is one block...</td>\n      <td>Clean, attractive, private room, one block fro...</td>\n      <td>My comfy, clean and relaxing home is one block...</td>\n      <td>none</td>\n      <td>I love the proximity to downtown, the neighbor...</td>\n      <td>...</td>\n      <td>10.0</td>\n      <td>f</td>\n      <td>NaN</td>\n      <td>NaN</td>\n      <td>f</td>\n      <td>flexible</td>\n      <td>f</td>\n      <td>f</td>\n      <td>1</td>\n      <td>2.25</td>\n    </tr>\n  </tbody>\n</table>\n<p>5 rows × 95 columns</p>\n</div>"
     },
     "metadata": {},
     "execution_count": 10
    }
   ],
   "source": [
    "#Airbnb data\n",
    "df=pd.read_csv(\"datasets/listings.csv\")\n",
    "df.head()"
   ]
  },
  {
   "cell_type": "code",
   "execution_count": 11,
   "metadata": {
    "slideshow": {
     "slide_type": "slide"
    }
   },
   "outputs": [
    {
     "output_type": "stream",
     "name": "stdout",
     "text": [
      "Grouped by ('flexible', 2.0) with a total of 1\nGrouped by ('flexible', 4.0) with a total of 5\nGrouped by ('flexible', 5.0) with a total of 1\nGrouped by ('flexible', 6.0) with a total of 18\nGrouped by ('flexible', 7.0) with a total of 12\nGrouped by ('flexible', 8.0) with a total of 67\nGrouped by ('flexible', 9.0) with a total of 200\nGrouped by ('flexible', 10.0) with a total of 332\nGrouped by ('moderate', 2.0) with a total of 1\nGrouped by ('moderate', 4.0) with a total of 1\nGrouped by ('moderate', 6.0) with a total of 10\nGrouped by ('moderate', 7.0) with a total of 7\nGrouped by ('moderate', 8.0) with a total of 82\nGrouped by ('moderate', 9.0) with a total of 304\nGrouped by ('moderate', 10.0) with a total of 379\nGrouped by ('strict', 2.0) with a total of 5\nGrouped by ('strict', 3.0) with a total of 2\nGrouped by ('strict', 4.0) with a total of 6\nGrouped by ('strict', 5.0) with a total of 1\nGrouped by ('strict', 6.0) with a total of 19\nGrouped by ('strict', 7.0) with a total of 30\nGrouped by ('strict', 8.0) with a total of 157\nGrouped by ('strict', 9.0) with a total of 598\nGrouped by ('strict', 10.0) with a total of 459\nGrouped by ('super_strict_30', 6.0) with a total of 2\nGrouped by ('super_strict_30', 7.0) with a total of 2\nGrouped by ('super_strict_30', 8.0) with a total of 28\nGrouped by ('super_strict_30', 9.0) with a total of 28\nGrouped by ('super_strict_30', 10.0) with a total of 7\n"
     ]
    }
   ],
   "source": [
    "#It works pretty much as you would expect\n",
    "for group, frame in df.groupby(['cancellation_policy', 'review_scores_value']):\n",
    "    print(f\"Grouped by {group} with a total of {len(frame)}\")"
   ]
  },
  {
   "cell_type": "markdown",
   "metadata": {
    "slideshow": {
     "slide_type": "slide"
    }
   },
   "source": [
    "## Applying\n",
    "* So far we have just looked at splitting up data\n",
    "* We have three broad kinds of applying for data: aggregation, transformation, and filtering."
   ]
  },
  {
   "cell_type": "markdown",
   "metadata": {
    "slideshow": {
     "slide_type": "subslide"
    }
   },
   "source": [
    "### Aggregation"
   ]
  },
  {
   "cell_type": "code",
   "execution_count": 12,
   "metadata": {
    "slideshow": {
     "slide_type": "slide"
    }
   },
   "outputs": [
    {
     "output_type": "execute_result",
     "data": {
      "text/plain": [
       "                     review_scores_value\n",
       "cancellation_policy                     \n",
       "flexible                             NaN\n",
       "moderate                             NaN\n",
       "strict                               NaN\n",
       "super_strict_30                      NaN"
      ],
      "text/html": "<div>\n<style scoped>\n    .dataframe tbody tr th:only-of-type {\n        vertical-align: middle;\n    }\n\n    .dataframe tbody tr th {\n        vertical-align: top;\n    }\n\n    .dataframe thead th {\n        text-align: right;\n    }\n</style>\n<table border=\"1\" class=\"dataframe\">\n  <thead>\n    <tr style=\"text-align: right;\">\n      <th></th>\n      <th>review_scores_value</th>\n    </tr>\n    <tr>\n      <th>cancellation_policy</th>\n      <th></th>\n    </tr>\n  </thead>\n  <tbody>\n    <tr>\n      <th>flexible</th>\n      <td>NaN</td>\n    </tr>\n    <tr>\n      <th>moderate</th>\n      <td>NaN</td>\n    </tr>\n    <tr>\n      <th>strict</th>\n      <td>NaN</td>\n    </tr>\n    <tr>\n      <th>super_strict_30</th>\n      <td>NaN</td>\n    </tr>\n  </tbody>\n</table>\n</div>"
     },
     "metadata": {},
     "execution_count": 12
    }
   ],
   "source": [
    "# We should just be able to aggregate by calling .agg\n",
    "df.groupby('cancellation_policy').agg({'review_scores_value': np.average})"
   ]
  },
  {
   "cell_type": "code",
   "execution_count": 13,
   "metadata": {
    "slideshow": {
     "slide_type": "slide"
    }
   },
   "outputs": [
    {
     "output_type": "execute_result",
     "data": {
      "text/plain": [
       "                     review_scores_value\n",
       "cancellation_policy                     \n",
       "flexible                        9.237421\n",
       "moderate                        9.307398\n",
       "strict                          9.081441\n",
       "super_strict_30                 8.537313"
      ],
      "text/html": "<div>\n<style scoped>\n    .dataframe tbody tr th:only-of-type {\n        vertical-align: middle;\n    }\n\n    .dataframe tbody tr th {\n        vertical-align: top;\n    }\n\n    .dataframe thead th {\n        text-align: right;\n    }\n</style>\n<table border=\"1\" class=\"dataframe\">\n  <thead>\n    <tr style=\"text-align: right;\">\n      <th></th>\n      <th>review_scores_value</th>\n    </tr>\n    <tr>\n      <th>cancellation_policy</th>\n      <th></th>\n    </tr>\n  </thead>\n  <tbody>\n    <tr>\n      <th>flexible</th>\n      <td>9.237421</td>\n    </tr>\n    <tr>\n      <th>moderate</th>\n      <td>9.307398</td>\n    </tr>\n    <tr>\n      <th>strict</th>\n      <td>9.081441</td>\n    </tr>\n    <tr>\n      <th>super_strict_30</th>\n      <td>8.537313</td>\n    </tr>\n  </tbody>\n</table>\n</div>"
     },
     "metadata": {},
     "execution_count": 13
    }
   ],
   "source": [
    "# That didn't seem to work at all, NaN!\n",
    "df.groupby('cancellation_policy').agg({'review_scores_value': np.nanmean})"
   ]
  },
  {
   "cell_type": "code",
   "execution_count": 18,
   "metadata": {
    "slideshow": {
     "slide_type": "slide"
    }
   },
   "outputs": [],
   "source": [
    "# We can just extend this dictionary to aggregate by multiple functions or multiple columns.\n",
    "x = df.groupby('cancellation_policy').agg({'review_scores_value': (np.nanmean, np.nanstd), 'reviews_per_month': np.nanmean })"
   ]
  },
  {
   "cell_type": "code",
   "execution_count": 27,
   "metadata": {},
   "outputs": [
    {
     "output_type": "execute_result",
     "data": {
      "text/plain": [
       "9.2374213836478"
      ]
     },
     "metadata": {},
     "execution_count": 27
    }
   ],
   "source": [
    "x.loc['flexible']['review_scores_value']['nanmean']"
   ]
  },
  {
   "cell_type": "markdown",
   "metadata": {
    "slideshow": {
     "slide_type": "slide"
    }
   },
   "source": [
    "### Transformation\n",
    "* Transformation broadcasts the function you supply over the grouped `DataFrame`, returning a new `DataFrame`.\n",
    "* This is an important subtlety. `agg()` takes a grouped `DataFrame` and returns a scalar for that group. But `transform()` returns a `DataFrame` for that group.\n",
    "* Whereas `agg()` will return a `DataFrame` the size of the number of groups (one entry per group), `transform()` will return a `DataFrame` the size of your original `DataFrame`"
   ]
  },
  {
   "cell_type": "code",
   "execution_count": null,
   "metadata": {
    "slideshow": {
     "slide_type": "slide"
    }
   },
   "outputs": [],
   "source": [
    "# Lets just look at a couple of columns from our DataFrame\n"
   ]
  },
  {
   "cell_type": "code",
   "execution_count": null,
   "metadata": {
    "slideshow": {
     "slide_type": "fragment"
    }
   },
   "outputs": [],
   "source": [
    "# Notice that we are indexed by some review number. If we want to find the average for each group, we can do\n"
   ]
  },
  {
   "cell_type": "code",
   "execution_count": null,
   "metadata": {
    "slideshow": {
     "slide_type": "fragment"
    }
   },
   "outputs": [],
   "source": [
    "# But how do we put this average, say as a column called \"related_averages\", \n",
    "# back to our original dataframe\n",
    "# How would YOU do that....?\n"
   ]
  },
  {
   "cell_type": "code",
   "execution_count": null,
   "metadata": {
    "slideshow": {
     "slide_type": "slide"
    }
   },
   "outputs": [],
   "source": [
    "# Transform lets us do this in one step\n"
   ]
  },
  {
   "cell_type": "code",
   "execution_count": null,
   "metadata": {
    "slideshow": {
     "slide_type": "fragment"
    }
   },
   "outputs": [],
   "source": [
    "# Since the return is indexed just like the original dataframe, we can just assign it to a column\n"
   ]
  },
  {
   "cell_type": "code",
   "execution_count": null,
   "metadata": {
    "slideshow": {
     "slide_type": "slide"
    }
   },
   "outputs": [],
   "source": []
  },
  {
   "cell_type": "markdown",
   "metadata": {
    "slideshow": {
     "slide_type": "slide"
    }
   },
   "source": [
    "### Filtering\n",
    "* You can also use `filter()` to remove rows from groups, sort of like `where()`"
   ]
  },
  {
   "cell_type": "code",
   "execution_count": null,
   "metadata": {
    "slideshow": {
     "slide_type": "subslide"
    }
   },
   "outputs": [],
   "source": []
  },
  {
   "cell_type": "markdown",
   "metadata": {
    "slideshow": {
     "slide_type": "slide"
    }
   },
   "source": [
    "### Applying\n",
    "* This is 95% of what I actually do with groups"
   ]
  },
  {
   "cell_type": "code",
   "execution_count": null,
   "metadata": {
    "slideshow": {
     "slide_type": "slide"
    }
   },
   "outputs": [],
   "source": [
    "df=pd.read_csv(\"datasets/listings.csv\")\n",
    "df=df[['cancellation_policy','review_scores_value']]\n",
    "df.head()"
   ]
  },
  {
   "cell_type": "code",
   "execution_count": null,
   "metadata": {
    "slideshow": {
     "slide_type": "slide"
    }
   },
   "outputs": [],
   "source": [
    "def calc_mean_review_scores(group):\n",
    "    # we can treat this as the complete dataframe\n",
    "    # now broadcast our formula and create a new column\n",
    "    return group\n",
    "\n",
    "# Now just apply this to the groups\n"
   ]
  }
 ],
 "metadata": {
  "celltoolbar": "Slideshow",
  "kernelspec": {
   "display_name": "Python 3",
   "language": "python",
   "name": "python3"
  },
  "language_info": {
   "codemirror_mode": {
    "name": "ipython",
    "version": 3
   },
   "file_extension": ".py",
   "mimetype": "text/x-python",
   "name": "python",
   "nbconvert_exporter": "python",
   "pygments_lexer": "ipython3",
   "version": "3.8.1-final"
  }
 },
 "nbformat": 4,
 "nbformat_minor": 4
}